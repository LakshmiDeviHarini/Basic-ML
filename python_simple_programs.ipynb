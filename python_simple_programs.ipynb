{
  "nbformat": 4,
  "nbformat_minor": 0,
  "metadata": {
    "colab": {
      "name": "python simple programs.ipynb",
      "provenance": [],
      "authorship_tag": "ABX9TyPb6iO39qjeYWapoIkmk3kA",
      "include_colab_link": true
    },
    "kernelspec": {
      "name": "python3",
      "display_name": "Python 3"
    },
    "language_info": {
      "name": "python"
    }
  },
  "cells": [
    {
      "cell_type": "markdown",
      "metadata": {
        "id": "view-in-github",
        "colab_type": "text"
      },
      "source": [
        "<a href=\"https://colab.research.google.com/github/LakshmiDeviHarini/Basic-ML/blob/main/python_simple_programs.ipynb\" target=\"_parent\"><img src=\"https://colab.research.google.com/assets/colab-badge.svg\" alt=\"Open In Colab\"/></a>"
      ]
    },
    {
      "cell_type": "code",
      "metadata": {
        "colab": {
          "base_uri": "https://localhost:8080/"
        },
        "id": "06J2xqQOC2Y7",
        "outputId": "9cd2573a-0655-4993-b7ed-51e03ee86ba5"
      },
      "source": [
        "# Python program to check if year is a leap year or not\n",
        "#getting input from user\n",
        "year=2500\n",
        "if((year%4==0)and(year%400==0) or (year%100!=0)):\n",
        "  print(\"leap year\")\n",
        "else:\n",
        "  print(\"not a leap year\")"
      ],
      "execution_count": 10,
      "outputs": [
        {
          "output_type": "stream",
          "text": [
            "not a leap year\n"
          ],
          "name": "stdout"
        }
      ]
    },
    {
      "cell_type": "code",
      "metadata": {
        "colab": {
          "base_uri": "https://localhost:8080/"
        },
        "id": "nc1PKAUfGkh6",
        "outputId": "33ce1078-5b07-4fc1-9489-250b3a8dd99f"
      },
      "source": [
        "# Python program to swap two variables\n",
        "# To take inputs from the user\n",
        "x = 5\n",
        "y = 10\n",
        "#x = input('Enter value of x: ')\n",
        "#y = input('Enter value of y: ')\n",
        "# create a temporary variable and swap the values\n",
        "temp = x\n",
        "x = y\n",
        "y = temp\n",
        "print('The value of x after swapping: {}'.format(x))\n",
        "print('The value of y after swapping: {}'.format(y))"
      ],
      "execution_count": 13,
      "outputs": [
        {
          "output_type": "stream",
          "text": [
            "The value of x after swapping: 10\n",
            "The value of y after swapping: 5\n"
          ],
          "name": "stdout"
        }
      ]
    },
    {
      "cell_type": "code",
      "metadata": {
        "colab": {
          "base_uri": "https://localhost:8080/"
        },
        "id": "-skUWVb8IHbc",
        "outputId": "127f1cbd-b608-4638-b671-469cf94b1612"
      },
      "source": [
        "# This program adds two numbers\n",
        "a = 1.5\n",
        "b = 6.3\n",
        "# Add two numbers\n",
        "sum = a + b\n",
        "# Display the sum\n",
        "print('The sum of {0} and {1} is {2}'.format(a, b, sum))\n"
      ],
      "execution_count": 14,
      "outputs": [
        {
          "output_type": "stream",
          "text": [
            "The sum of 1.5 and 6.3 is 7.8\n"
          ],
          "name": "stdout"
        }
      ]
    }
  ]
}